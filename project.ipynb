{
 "cells": [
  {
   "cell_type": "markdown",
   "metadata": {},
   "source": [
    "**INFO 2950 Final Project**"
   ]
  },
  {
   "cell_type": "markdown",
   "metadata": {},
   "source": [
    "*generic intro about the impact of COVID-19*\n",
    "\n",
    "*TO DO make this intro way more polished once you have a better idea of what you're doing*\n",
    "\n",
    "The coronavirus pandemic has drastically changed the lives of Americans. Many adults have lost their jobs or are working remotely. Children are having to learn online. And many essential workers are feeling pressure of working on the front lines during this crisis.\n",
    "\n",
    "How this may have long term effects on communities and vulnerable populations remains to be seen. My goal is to use 3 datasets to try to identify at-risk areas and trends. The data description will section will give a better understanding of these topics.\n",
    "\n",
    "metrics to take note of:\n",
    "* single parent households with children\n",
    "* crowded households\n",
    "* households that speak english less than well.\n",
    "* ep_age17 percentage aged 17 or younger\n",
    "\n",
    "* increases in covid cases\n",
    "* usda atlas of rural america"
   ]
  },
  {
   "cell_type": "markdown",
   "metadata": {},
   "source": [
    "**DATA DESCRIPTION**\n",
    "\n",
    "What are the observations (rows) and the attributes (columns)?\n",
    "* Data set \"covid\" 1 is of coronavirus cases and deaths by county\n",
    "* Data set 2 \"svi\" is the Social Vulnerability index, which provides county data about population vulnerability based on measurements of a variety of factors. These factors are categorized by \"socioeconomic status\", \"household composition & disability\", \"minority status & languge\", and \"housing type and transportation.\" A very large amount of measurements are included on this\n",
    "* Data set three \"unemp\" is county economic data. It includes measures such as the rurality of the county, employment rates, median income, and median income relative to the rest of the state.\n",
    "* I joined these datasets based on the FIPs county code. \"svi\" and \"unemp\" had a very large number of attributes, so while joining, I tried to filter the ones I thought would be most salient to this project. I will outline the attributes of the final table below:\n",
    "\n",
    "# TODO ahhhh\n",
    "* I'll detail all the attributes and their names (I will probably standardize the format of the names and make them shorter) in the final draft, I'm still not sure which ones I'm going to use.\n",
    "\n",
    "Why was this dataset created?\n",
    "* The Covid data was created by the New York Times for use in their own reporting and data visualizations. \n",
    "* The SVI was created to identify and classify vulnerable populations, so that governing agencies could develop emergency-preparedness analysis and plans.\n",
    "* The county economic data was created by the Local Area Unemployment Statistics to measure economic growth and progress.\n",
    "\n",
    "* My data set combining these factors was created to explore how economic and other risk factors may relate to areas that are particularly hard-hit by the virus.\n",
    "\n",
    "Who funded the creation of the dataset?\n",
    "* \"covid\" data is created and funded by the New York Times.\n",
    "* \"svi\" data is created and funded by the government, specifically the Center for Disease Control (CDC) and Agency for Toxic Substances and Disease Registry (ATSDR)\n",
    "* \"unemp\" data is created and funded by the US Economic Research Service\n",
    "\n",
    "What processes might have influenced what data was observed and recorded and what was not?\n",
    "* the main thing with the coronavirus data is just massive lack of and inconsistencies with testing\n",
    "* additionally, a lot of SVI data appears to be missing or incomplete, I'm not entirely sure why this is but it seems like for some counties, the CDC doesn't feel confident enough to make approximations (maybe this is mostly for small/rural counties with low census response rates)\n",
    "\n",
    "What preprocessing was done, and how did the data come to be in the form that you are using?\n",
    "* I mostly had to use join statements to merge the data\n",
    "* I also filtered out a lot of columns from the SVI and unemployment data, because these were very large datasets.\n",
    "* Some of the SVI data uses -999 as a dummy variable, I'm still figuring out how and when to deal with that.\n",
    "\n",
    "If people are involved, were they aware of the data collection and if so, what purpose did they expect the data to be used for?\n",
    "* Most of this data is government data from census information\n",
    "* The Covid data is also sourced from government press releases\n",
    "* All the information is very depersonalized and only at a county level\n",
    "* Also I think people generally expect that government collects depersonalized data and that their information might be used in a very broad sense to shape understanding and policy related to current events\n",
    "* New York Times has generously made their data open-source so that others can benefit from and use the information they've collected\n",
    "\n",
    "\n",
    "Where can your raw source data be found, if applicable? Provide a link to the raw data (hosted in a Cornell Google Drive or Cornell Box).\n",
    "\n",
    "* \"covid\" : https://github.com/nytimes/covid-19-data\n",
    "* \"svi\": https://svi.cdc.gov/data-and-tools-download.html\n",
    "* \"unemp\": https://www.ers.usda.gov/data-products/county-level-data-sets/ "
   ]
  },
  {
   "cell_type": "code",
   "execution_count": 5,
   "metadata": {},
   "outputs": [],
   "source": [
    "import pandas as pd\n",
    "import numpy as np\n",
    "import matplotlib.pyplot as plt\n",
    "from sklearn.linear_model import LinearRegression"
   ]
  },
  {
   "cell_type": "code",
   "execution_count": 6,
   "metadata": {
    "scrolled": false
   },
   "outputs": [
    {
     "data": {
      "text/html": [
       "<div>\n",
       "<style scoped>\n",
       "    .dataframe tbody tr th:only-of-type {\n",
       "        vertical-align: middle;\n",
       "    }\n",
       "\n",
       "    .dataframe tbody tr th {\n",
       "        vertical-align: top;\n",
       "    }\n",
       "\n",
       "    .dataframe thead th {\n",
       "        text-align: right;\n",
       "    }\n",
       "</style>\n",
       "<table border=\"1\" class=\"dataframe\">\n",
       "  <thead>\n",
       "    <tr style=\"text-align: right;\">\n",
       "      <th></th>\n",
       "      <th>FIPS</th>\n",
       "      <th>State</th>\n",
       "      <th>Area_name</th>\n",
       "      <th>Rural_urban_continuum_code_2013</th>\n",
       "      <th>Urban_influence_code_2013</th>\n",
       "      <th>Metro_2013</th>\n",
       "      <th>Civilian_labor_force_2018</th>\n",
       "      <th>Employed_2018</th>\n",
       "      <th>Unemployed_2018</th>\n",
       "      <th>Unemployment_rate_2018</th>\n",
       "      <th>...</th>\n",
       "      <th>RPL_THEME2</th>\n",
       "      <th>RPL_THEME3</th>\n",
       "      <th>RPL_THEME4</th>\n",
       "      <th>RPL_THEMES</th>\n",
       "      <th>cases_per_capita</th>\n",
       "      <th>cases_per_100k</th>\n",
       "      <th>density</th>\n",
       "      <th>first_day</th>\n",
       "      <th>days_since_first</th>\n",
       "      <th>spread_speed</th>\n",
       "    </tr>\n",
       "  </thead>\n",
       "  <tbody>\n",
       "    <tr>\n",
       "      <th>0</th>\n",
       "      <td>1001.0</td>\n",
       "      <td>AL</td>\n",
       "      <td>Autauga County, AL</td>\n",
       "      <td>2.0</td>\n",
       "      <td>2.0</td>\n",
       "      <td>1.0</td>\n",
       "      <td>25957</td>\n",
       "      <td>25015</td>\n",
       "      <td>942</td>\n",
       "      <td>3.6</td>\n",
       "      <td>...</td>\n",
       "      <td>0.581</td>\n",
       "      <td>0.5947</td>\n",
       "      <td>0.3741</td>\n",
       "      <td>0.4354</td>\n",
       "      <td>0.000018</td>\n",
       "      <td>1.811594</td>\n",
       "      <td>92.859967</td>\n",
       "      <td>63.0</td>\n",
       "      <td>0.0</td>\n",
       "      <td>1.000000</td>\n",
       "    </tr>\n",
       "    <tr>\n",
       "      <th>1</th>\n",
       "      <td>1001.0</td>\n",
       "      <td>AL</td>\n",
       "      <td>Autauga County, AL</td>\n",
       "      <td>2.0</td>\n",
       "      <td>2.0</td>\n",
       "      <td>1.0</td>\n",
       "      <td>25957</td>\n",
       "      <td>25015</td>\n",
       "      <td>942</td>\n",
       "      <td>3.6</td>\n",
       "      <td>...</td>\n",
       "      <td>0.581</td>\n",
       "      <td>0.5947</td>\n",
       "      <td>0.3741</td>\n",
       "      <td>0.4354</td>\n",
       "      <td>0.000072</td>\n",
       "      <td>7.246377</td>\n",
       "      <td>92.859967</td>\n",
       "      <td>63.0</td>\n",
       "      <td>1.0</td>\n",
       "      <td>7.246377</td>\n",
       "    </tr>\n",
       "    <tr>\n",
       "      <th>2</th>\n",
       "      <td>1001.0</td>\n",
       "      <td>AL</td>\n",
       "      <td>Autauga County, AL</td>\n",
       "      <td>2.0</td>\n",
       "      <td>2.0</td>\n",
       "      <td>1.0</td>\n",
       "      <td>25957</td>\n",
       "      <td>25015</td>\n",
       "      <td>942</td>\n",
       "      <td>3.6</td>\n",
       "      <td>...</td>\n",
       "      <td>0.581</td>\n",
       "      <td>0.5947</td>\n",
       "      <td>0.3741</td>\n",
       "      <td>0.4354</td>\n",
       "      <td>0.000109</td>\n",
       "      <td>10.869565</td>\n",
       "      <td>92.859967</td>\n",
       "      <td>63.0</td>\n",
       "      <td>2.0</td>\n",
       "      <td>5.434783</td>\n",
       "    </tr>\n",
       "    <tr>\n",
       "      <th>3</th>\n",
       "      <td>1001.0</td>\n",
       "      <td>AL</td>\n",
       "      <td>Autauga County, AL</td>\n",
       "      <td>2.0</td>\n",
       "      <td>2.0</td>\n",
       "      <td>1.0</td>\n",
       "      <td>25957</td>\n",
       "      <td>25015</td>\n",
       "      <td>942</td>\n",
       "      <td>3.6</td>\n",
       "      <td>...</td>\n",
       "      <td>0.581</td>\n",
       "      <td>0.5947</td>\n",
       "      <td>0.3741</td>\n",
       "      <td>0.4354</td>\n",
       "      <td>0.000109</td>\n",
       "      <td>10.869565</td>\n",
       "      <td>92.859967</td>\n",
       "      <td>63.0</td>\n",
       "      <td>3.0</td>\n",
       "      <td>3.623188</td>\n",
       "    </tr>\n",
       "    <tr>\n",
       "      <th>4</th>\n",
       "      <td>1001.0</td>\n",
       "      <td>AL</td>\n",
       "      <td>Autauga County, AL</td>\n",
       "      <td>2.0</td>\n",
       "      <td>2.0</td>\n",
       "      <td>1.0</td>\n",
       "      <td>25957</td>\n",
       "      <td>25015</td>\n",
       "      <td>942</td>\n",
       "      <td>3.6</td>\n",
       "      <td>...</td>\n",
       "      <td>0.581</td>\n",
       "      <td>0.5947</td>\n",
       "      <td>0.3741</td>\n",
       "      <td>0.4354</td>\n",
       "      <td>0.000109</td>\n",
       "      <td>10.869565</td>\n",
       "      <td>92.859967</td>\n",
       "      <td>63.0</td>\n",
       "      <td>4.0</td>\n",
       "      <td>2.717391</td>\n",
       "    </tr>\n",
       "  </tbody>\n",
       "</table>\n",
       "<p>5 rows × 47 columns</p>\n",
       "</div>"
      ],
      "text/plain": [
       "     FIPS State           Area_name  Rural_urban_continuum_code_2013  \\\n",
       "0  1001.0    AL  Autauga County, AL                              2.0   \n",
       "1  1001.0    AL  Autauga County, AL                              2.0   \n",
       "2  1001.0    AL  Autauga County, AL                              2.0   \n",
       "3  1001.0    AL  Autauga County, AL                              2.0   \n",
       "4  1001.0    AL  Autauga County, AL                              2.0   \n",
       "\n",
       "   Urban_influence_code_2013  Metro_2013  Civilian_labor_force_2018  \\\n",
       "0                        2.0         1.0                      25957   \n",
       "1                        2.0         1.0                      25957   \n",
       "2                        2.0         1.0                      25957   \n",
       "3                        2.0         1.0                      25957   \n",
       "4                        2.0         1.0                      25957   \n",
       "\n",
       "   Employed_2018  Unemployed_2018  Unemployment_rate_2018     ...       \\\n",
       "0          25015              942                     3.6     ...        \n",
       "1          25015              942                     3.6     ...        \n",
       "2          25015              942                     3.6     ...        \n",
       "3          25015              942                     3.6     ...        \n",
       "4          25015              942                     3.6     ...        \n",
       "\n",
       "   RPL_THEME2  RPL_THEME3 RPL_THEME4 RPL_THEMES cases_per_capita  \\\n",
       "0       0.581      0.5947     0.3741     0.4354         0.000018   \n",
       "1       0.581      0.5947     0.3741     0.4354         0.000072   \n",
       "2       0.581      0.5947     0.3741     0.4354         0.000109   \n",
       "3       0.581      0.5947     0.3741     0.4354         0.000109   \n",
       "4       0.581      0.5947     0.3741     0.4354         0.000109   \n",
       "\n",
       "   cases_per_100k    density  first_day  days_since_first spread_speed  \n",
       "0        1.811594  92.859967       63.0               0.0     1.000000  \n",
       "1        7.246377  92.859967       63.0               1.0     7.246377  \n",
       "2       10.869565  92.859967       63.0               2.0     5.434783  \n",
       "3       10.869565  92.859967       63.0               3.0     3.623188  \n",
       "4       10.869565  92.859967       63.0               4.0     2.717391  \n",
       "\n",
       "[5 rows x 47 columns]"
      ]
     },
     "execution_count": 6,
     "metadata": {},
     "output_type": "execute_result"
    }
   ],
   "source": [
    "fulldata = pd.read_csv('finaldataset.csv')\n",
    "fulldata.head()"
   ]
  },
  {
   "cell_type": "markdown",
   "metadata": {},
   "source": [
    "A quirk worth noting about this data: unfortunately, the New York Times data combines the five boroughs (counties) that make up New York City into row to represent the whole city. For this reason, there was no valid way to merge it with the county level data -- it didn't have a FIPs code and it would be too time-consuming for the scope of this project to try to combine the borough data from the other data sets using some sort of weighted average system. \n",
    "\n",
    "Instead, I created an extra dataset called nyc of just the covid cases in New York City, to be used for comparisons."
   ]
  },
  {
   "cell_type": "code",
   "execution_count": 7,
   "metadata": {},
   "outputs": [
    {
     "data": {
      "text/html": [
       "<div>\n",
       "<style scoped>\n",
       "    .dataframe tbody tr th:only-of-type {\n",
       "        vertical-align: middle;\n",
       "    }\n",
       "\n",
       "    .dataframe tbody tr th {\n",
       "        vertical-align: top;\n",
       "    }\n",
       "\n",
       "    .dataframe thead th {\n",
       "        text-align: right;\n",
       "    }\n",
       "</style>\n",
       "<table border=\"1\" class=\"dataframe\">\n",
       "  <thead>\n",
       "    <tr style=\"text-align: right;\">\n",
       "      <th></th>\n",
       "      <th>date</th>\n",
       "      <th>county</th>\n",
       "      <th>state</th>\n",
       "      <th>FIPS</th>\n",
       "      <th>cases</th>\n",
       "      <th>deaths</th>\n",
       "      <th>daysafter</th>\n",
       "      <th>cases_per_capita</th>\n",
       "    </tr>\n",
       "  </thead>\n",
       "  <tbody>\n",
       "    <tr>\n",
       "      <th>416</th>\n",
       "      <td>2020-03-01</td>\n",
       "      <td>New York City</td>\n",
       "      <td>New York</td>\n",
       "      <td>NaN</td>\n",
       "      <td>1</td>\n",
       "      <td>0</td>\n",
       "      <td>40</td>\n",
       "      <td>1.190654e-07</td>\n",
       "    </tr>\n",
       "    <tr>\n",
       "      <th>448</th>\n",
       "      <td>2020-03-02</td>\n",
       "      <td>New York City</td>\n",
       "      <td>New York</td>\n",
       "      <td>NaN</td>\n",
       "      <td>1</td>\n",
       "      <td>0</td>\n",
       "      <td>41</td>\n",
       "      <td>1.190654e-07</td>\n",
       "    </tr>\n",
       "    <tr>\n",
       "      <th>482</th>\n",
       "      <td>2020-03-03</td>\n",
       "      <td>New York City</td>\n",
       "      <td>New York</td>\n",
       "      <td>NaN</td>\n",
       "      <td>2</td>\n",
       "      <td>0</td>\n",
       "      <td>42</td>\n",
       "      <td>2.381307e-07</td>\n",
       "    </tr>\n",
       "    <tr>\n",
       "      <th>518</th>\n",
       "      <td>2020-03-04</td>\n",
       "      <td>New York City</td>\n",
       "      <td>New York</td>\n",
       "      <td>NaN</td>\n",
       "      <td>2</td>\n",
       "      <td>0</td>\n",
       "      <td>43</td>\n",
       "      <td>2.381307e-07</td>\n",
       "    </tr>\n",
       "    <tr>\n",
       "      <th>565</th>\n",
       "      <td>2020-03-05</td>\n",
       "      <td>New York City</td>\n",
       "      <td>New York</td>\n",
       "      <td>NaN</td>\n",
       "      <td>4</td>\n",
       "      <td>0</td>\n",
       "      <td>44</td>\n",
       "      <td>4.762615e-07</td>\n",
       "    </tr>\n",
       "  </tbody>\n",
       "</table>\n",
       "</div>"
      ],
      "text/plain": [
       "          date         county     state  FIPS  cases  deaths  daysafter  \\\n",
       "416 2020-03-01  New York City  New York   NaN      1       0         40   \n",
       "448 2020-03-02  New York City  New York   NaN      1       0         41   \n",
       "482 2020-03-03  New York City  New York   NaN      2       0         42   \n",
       "518 2020-03-04  New York City  New York   NaN      2       0         43   \n",
       "565 2020-03-05  New York City  New York   NaN      4       0         44   \n",
       "\n",
       "     cases_per_capita  \n",
       "416      1.190654e-07  \n",
       "448      1.190654e-07  \n",
       "482      2.381307e-07  \n",
       "518      2.381307e-07  \n",
       "565      4.762615e-07  "
      ]
     },
     "execution_count": 7,
     "metadata": {},
     "output_type": "execute_result"
    }
   ],
   "source": [
    "covid = pd.read_csv('covid2.csv')\n",
    "covid.rename(columns={'fips':'FIPS'}, inplace=True)\n",
    "\n",
    "covid['date'] = pd.to_datetime(covid[\"date\"])\n",
    "start_date = pd.Timestamp(\"2020-01-21\")\n",
    "covid[\"daysafter\"] = (covid[\"date\"] - start_date).dt.days\n",
    "\n",
    "nyc = covid[covid['county']=='New York City']\n",
    "nyc = nyc.assign(cases_per_capita = nyc['cases']/8398748)\n",
    "nyc.head()"
   ]
  },
  {
   "cell_type": "markdown",
   "metadata": {},
   "source": [
    "If we are not mapping the change in COVID over time, it will be easiest to look at the data just using the most recent day. I create the latest_date data subset for this. To check this, I display a model of COVID cases and deaths."
   ]
  },
  {
   "cell_type": "code",
   "execution_count": 8,
   "metadata": {},
   "outputs": [
    {
     "data": {
      "image/png": "[encoded data removed]",
      "text/plain": [
       "<Figure size 360x360 with 1 Axes>"
      ]
     },
     "metadata": {},
     "output_type": "display_data"
    },
    {
     "name": "stdout",
     "output_type": "stream",
     "text": [
      "Model slope:      0.05177519870086469\n",
      "Model intercept:  -0.29075646266553434\n",
      "Correlation:      0.9394334164108455\n"
     ]
    }
   ],
   "source": [
    "latest_date = fulldata[fulldata['date']=='2020-05-05']\n",
    "\n",
    "cases_vs_deaths = LinearRegression(fit_intercept=True)\n",
    "cases_vs_deaths.fit(latest_date[['cases']], latest_date['deaths'])\n",
    "xfit = np.linspace(0, latest_date['cases'].max(),1000)\n",
    "yfit = cases_vs_deaths.predict(xfit[:,np.newaxis])\n",
    "                            \n",
    "\n",
    "plt.figure(figsize=(5,5))\n",
    "plt.scatter(xfit,yfit,s=.5)\n",
    "plt.scatter(latest_date['cases'], latest_date['deaths'], alpha=.1, color='red')\n",
    "\n",
    "plt.xlabel('COVID cases by county')\n",
    "plt.ylabel('COVID deaths by count')\n",
    "plt.show()\n",
    "\n",
    "print(\"Model slope:     \", cases_vs_deaths.coef_[0])\n",
    "print(\"Model intercept: \", cases_vs_deaths.intercept_)\n",
    "print(\"Correlation:     \", np.corrcoef(latest_date['cases'], latest_date['deaths'])[0][1])"
   ]
  },
  {
   "cell_type": "code",
   "execution_count": 9,
   "metadata": {
    "scrolled": true
   },
   "outputs": [
    {
     "data": {
      "image/png": "[encoded data removed]",
      "text/plain": [
       "<Figure size 432x288 with 1 Axes>"
      ]
     },
     "metadata": {},
     "output_type": "display_data"
    }
   ],
   "source": [
    "plt.scatter(latest_date['Rural_urban_continuum_code_2013'], latest_date['cases'], alpha=.1)\n",
    "plt.show()"
   ]
  },
  {
   "cell_type": "code",
   "execution_count": 10,
   "metadata": {},
   "outputs": [
    {
     "data": {
      "text/html": [
       "<div>\n",
       "<style scoped>\n",
       "    .dataframe tbody tr th:only-of-type {\n",
       "        vertical-align: middle;\n",
       "    }\n",
       "\n",
       "    .dataframe tbody tr th {\n",
       "        vertical-align: top;\n",
       "    }\n",
       "\n",
       "    .dataframe thead th {\n",
       "        text-align: right;\n",
       "    }\n",
       "</style>\n",
       "<table border=\"1\" class=\"dataframe\">\n",
       "  <thead>\n",
       "    <tr style=\"text-align: right;\">\n",
       "      <th></th>\n",
       "      <th>FIPS</th>\n",
       "      <th>State</th>\n",
       "      <th>Area_name</th>\n",
       "      <th>Rural_urban_continuum_code_2013</th>\n",
       "      <th>Urban_influence_code_2013</th>\n",
       "      <th>Metro_2013</th>\n",
       "      <th>Civilian_labor_force_2018</th>\n",
       "      <th>Employed_2018</th>\n",
       "      <th>Unemployed_2018</th>\n",
       "      <th>Unemployment_rate_2018</th>\n",
       "      <th>...</th>\n",
       "      <th>RPL_THEME2</th>\n",
       "      <th>RPL_THEME3</th>\n",
       "      <th>RPL_THEME4</th>\n",
       "      <th>RPL_THEMES</th>\n",
       "      <th>cases_per_capita</th>\n",
       "      <th>cases_per_100k</th>\n",
       "      <th>density</th>\n",
       "      <th>first_day</th>\n",
       "      <th>days_since_first</th>\n",
       "      <th>spread_speed</th>\n",
       "    </tr>\n",
       "  </thead>\n",
       "  <tbody>\n",
       "    <tr>\n",
       "      <th>25361</th>\n",
       "      <td>17031.0</td>\n",
       "      <td>IL</td>\n",
       "      <td>Cook County, IL</td>\n",
       "      <td>1.0</td>\n",
       "      <td>1.0</td>\n",
       "      <td>1.0</td>\n",
       "      <td>2611512</td>\n",
       "      <td>2506103</td>\n",
       "      <td>105409</td>\n",
       "      <td>4.0</td>\n",
       "      <td>...</td>\n",
       "      <td>0.0946</td>\n",
       "      <td>0.9618</td>\n",
       "      <td>0.8758</td>\n",
       "      <td>0.6755</td>\n",
       "      <td>0.008657</td>\n",
       "      <td>865.724209</td>\n",
       "      <td>5528.126575</td>\n",
       "      <td>3.0</td>\n",
       "      <td>102.0</td>\n",
       "      <td>8.487492</td>\n",
       "    </tr>\n",
       "    <tr>\n",
       "      <th>69532</th>\n",
       "      <td>36059.0</td>\n",
       "      <td>NY</td>\n",
       "      <td>Nassau County, NY</td>\n",
       "      <td>1.0</td>\n",
       "      <td>1.0</td>\n",
       "      <td>1.0</td>\n",
       "      <td>707875</td>\n",
       "      <td>682848</td>\n",
       "      <td>25027</td>\n",
       "      <td>3.5</td>\n",
       "      <td>...</td>\n",
       "      <td>0.0392</td>\n",
       "      <td>0.9105</td>\n",
       "      <td>0.5546</td>\n",
       "      <td>0.2430</td>\n",
       "      <td>0.027387</td>\n",
       "      <td>2738.683910</td>\n",
       "      <td>4766.729993</td>\n",
       "      <td>44.0</td>\n",
       "      <td>61.0</td>\n",
       "      <td>44.896458</td>\n",
       "    </tr>\n",
       "    <tr>\n",
       "      <th>70464</th>\n",
       "      <td>36103.0</td>\n",
       "      <td>NY</td>\n",
       "      <td>Suffolk County, NY</td>\n",
       "      <td>1.0</td>\n",
       "      <td>1.0</td>\n",
       "      <td>1.0</td>\n",
       "      <td>777784</td>\n",
       "      <td>747832</td>\n",
       "      <td>29952</td>\n",
       "      <td>3.9</td>\n",
       "      <td>...</td>\n",
       "      <td>0.0369</td>\n",
       "      <td>0.8545</td>\n",
       "      <td>0.4288</td>\n",
       "      <td>0.2146</td>\n",
       "      <td>0.023708</td>\n",
       "      <td>2370.789454</td>\n",
       "      <td>1631.869696</td>\n",
       "      <td>47.0</td>\n",
       "      <td>58.0</td>\n",
       "      <td>40.875680</td>\n",
       "    </tr>\n",
       "    <tr>\n",
       "      <th>70888</th>\n",
       "      <td>36119.0</td>\n",
       "      <td>NY</td>\n",
       "      <td>Westchester County, NY</td>\n",
       "      <td>1.0</td>\n",
       "      <td>1.0</td>\n",
       "      <td>1.0</td>\n",
       "      <td>484256</td>\n",
       "      <td>465428</td>\n",
       "      <td>18828</td>\n",
       "      <td>3.9</td>\n",
       "      <td>...</td>\n",
       "      <td>0.0853</td>\n",
       "      <td>0.9392</td>\n",
       "      <td>0.9386</td>\n",
       "      <td>0.5516</td>\n",
       "      <td>0.031212</td>\n",
       "      <td>3121.235736</td>\n",
       "      <td>2250.086937</td>\n",
       "      <td>43.0</td>\n",
       "      <td>62.0</td>\n",
       "      <td>50.342512</td>\n",
       "    </tr>\n",
       "    <tr>\n",
       "      <th>8005</th>\n",
       "      <td>6037.0</td>\n",
       "      <td>CA</td>\n",
       "      <td>Los Angeles County, CA</td>\n",
       "      <td>1.0</td>\n",
       "      <td>1.0</td>\n",
       "      <td>1.0</td>\n",
       "      <td>5136341</td>\n",
       "      <td>4896512</td>\n",
       "      <td>239829</td>\n",
       "      <td>4.7</td>\n",
       "      <td>...</td>\n",
       "      <td>0.1047</td>\n",
       "      <td>0.9933</td>\n",
       "      <td>0.9045</td>\n",
       "      <td>0.7682</td>\n",
       "      <td>0.002754</td>\n",
       "      <td>275.449166</td>\n",
       "      <td>2488.313394</td>\n",
       "      <td>5.0</td>\n",
       "      <td>100.0</td>\n",
       "      <td>2.754492</td>\n",
       "    </tr>\n",
       "  </tbody>\n",
       "</table>\n",
       "<p>5 rows × 47 columns</p>\n",
       "</div>"
      ],
      "text/plain": [
       "          FIPS State               Area_name  Rural_urban_continuum_code_2013  \\\n",
       "25361  17031.0    IL         Cook County, IL                              1.0   \n",
       "69532  36059.0    NY       Nassau County, NY                              1.0   \n",
       "70464  36103.0    NY      Suffolk County, NY                              1.0   \n",
       "70888  36119.0    NY  Westchester County, NY                              1.0   \n",
       "8005    6037.0    CA  Los Angeles County, CA                              1.0   \n",
       "\n",
       "       Urban_influence_code_2013  Metro_2013  Civilian_labor_force_2018  \\\n",
       "25361                        1.0         1.0                    2611512   \n",
       "69532                        1.0         1.0                     707875   \n",
       "70464                        1.0         1.0                     777784   \n",
       "70888                        1.0         1.0                     484256   \n",
       "8005                         1.0         1.0                    5136341   \n",
       "\n",
       "       Employed_2018  Unemployed_2018  Unemployment_rate_2018     ...       \\\n",
       "25361        2506103           105409                     4.0     ...        \n",
       "69532         682848            25027                     3.5     ...        \n",
       "70464         747832            29952                     3.9     ...        \n",
       "70888         465428            18828                     3.9     ...        \n",
       "8005         4896512           239829                     4.7     ...        \n",
       "\n",
       "       RPL_THEME2  RPL_THEME3 RPL_THEME4 RPL_THEMES cases_per_capita  \\\n",
       "25361      0.0946      0.9618     0.8758     0.6755         0.008657   \n",
       "69532      0.0392      0.9105     0.5546     0.2430         0.027387   \n",
       "70464      0.0369      0.8545     0.4288     0.2146         0.023708   \n",
       "70888      0.0853      0.9392     0.9386     0.5516         0.031212   \n",
       "8005       0.1047      0.9933     0.9045     0.7682         0.002754   \n",
       "\n",
       "       cases_per_100k      density  first_day  days_since_first spread_speed  \n",
       "25361      865.724209  5528.126575        3.0             102.0     8.487492  \n",
       "69532     2738.683910  4766.729993       44.0              61.0    44.896458  \n",
       "70464     2370.789454  1631.869696       47.0              58.0    40.875680  \n",
       "70888     3121.235736  2250.086937       43.0              62.0    50.342512  \n",
       "8005       275.449166  2488.313394        5.0             100.0     2.754492  \n",
       "\n",
       "[5 rows x 47 columns]"
      ]
     },
     "execution_count": 10,
     "metadata": {},
     "output_type": "execute_result"
    }
   ],
   "source": [
    "latest_date.sort_values(by='cases', ascending=False).head()"
   ]
  },
  {
   "cell_type": "markdown",
   "metadata": {},
   "source": [
    "It looks like areas that are 1 on the rural urban continuum seem to have the most cases. These are larger cities, so this makes sense. But then this isn't a very useful measurement. Of course cities with more people tend to have more cases! We need to look at the infections per capita to get any sort of meaningful county information."
   ]
  },
  {
   "cell_type": "code",
   "execution_count": 11,
   "metadata": {},
   "outputs": [
    {
     "data": {
      "image/png": "[encoded data removed]",
      "text/plain": [
       "<Figure size 432x288 with 1 Axes>"
      ]
     },
     "metadata": {},
     "output_type": "display_data"
    }
   ],
   "source": [
    "plt.scatter(latest_date['Rural_urban_continuum_code_2013'], latest_date['cases_per_100k']/100, alpha=.1)\n",
    "plt.show()"
   ]
  },
  {
   "cell_type": "code",
   "execution_count": 12,
   "metadata": {},
   "outputs": [
    {
     "name": "stdout",
     "output_type": "stream",
     "text": [
      "r^2 of rural urban continuum and case per capita at most recent date:  -0.11683351163137934\n",
      "r^2 of urban influence and case per capita at most recent date:        -0.11112144070580203\n"
     ]
    }
   ],
   "source": [
    "model1 = LinearRegression(fit_intercept=True)\n",
    "\n",
    "model1.fit(latest_date[['Rural_urban_continuum_code_2013', 'Urban_influence_code_2013']], latest_date['cases_per_capita'])\n",
    "\n",
    "# print('rur-urb-cont  urban-influence')\n",
    "# print(model1.coef_)\n",
    "\n",
    "print('r^2 of rural urban continuum and case per capita at most recent date: ', np.corrcoef(latest_date['Rural_urban_continuum_code_2013'], latest_date['cases_per_capita'])[0,1])\n",
    "print('r^2 of urban influence and case per capita at most recent date:       ', np.corrcoef(latest_date['Urban_influence_code_2013'], latest_date['cases_per_capita'])[0,1])\n"
   ]
  },
  {
   "cell_type": "markdown",
   "metadata": {},
   "source": [
    "It seems like at this point, because the virus is widespread, the rural urban contiuum and the urban influence don't have any significant correlation with the extent of the outbreak in each county. But there are a few huge outliers in terms of the cases per capita. In fact, if anything, more rural areas may have higher infection rates per capita, even though metro areas are more densely populated. \n",
    "\n",
    "But let's take a look at a few of the cities with the highest per capita infection rates."
   ]
  },
  {
   "cell_type": "code",
   "execution_count": 13,
   "metadata": {},
   "outputs": [
    {
     "data": {
      "text/html": [
       "<div>\n",
       "<style scoped>\n",
       "    .dataframe tbody tr th:only-of-type {\n",
       "        vertical-align: middle;\n",
       "    }\n",
       "\n",
       "    .dataframe tbody tr th {\n",
       "        vertical-align: top;\n",
       "    }\n",
       "\n",
       "    .dataframe thead th {\n",
       "        text-align: right;\n",
       "    }\n",
       "</style>\n",
       "<table border=\"1\" class=\"dataframe\">\n",
       "  <thead>\n",
       "    <tr style=\"text-align: right;\">\n",
       "      <th></th>\n",
       "      <th>FIPS</th>\n",
       "      <th>State</th>\n",
       "      <th>Area_name</th>\n",
       "      <th>Rural_urban_continuum_code_2013</th>\n",
       "      <th>Urban_influence_code_2013</th>\n",
       "      <th>Metro_2013</th>\n",
       "      <th>Civilian_labor_force_2018</th>\n",
       "      <th>Employed_2018</th>\n",
       "      <th>Unemployed_2018</th>\n",
       "      <th>Unemployment_rate_2018</th>\n",
       "      <th>...</th>\n",
       "      <th>RPL_THEME2</th>\n",
       "      <th>RPL_THEME3</th>\n",
       "      <th>RPL_THEME4</th>\n",
       "      <th>RPL_THEMES</th>\n",
       "      <th>cases_per_capita</th>\n",
       "      <th>cases_per_100k</th>\n",
       "      <th>density</th>\n",
       "      <th>first_day</th>\n",
       "      <th>days_since_first</th>\n",
       "      <th>spread_speed</th>\n",
       "    </tr>\n",
       "  </thead>\n",
       "  <tbody>\n",
       "    <tr>\n",
       "      <th>94585</th>\n",
       "      <td>47169.0</td>\n",
       "      <td>TN</td>\n",
       "      <td>Trousdale County, TN</td>\n",
       "      <td>1.0</td>\n",
       "      <td>1.0</td>\n",
       "      <td>1.0</td>\n",
       "      <td>4888</td>\n",
       "      <td>4729</td>\n",
       "      <td>159</td>\n",
       "      <td>3.3</td>\n",
       "      <td>...</td>\n",
       "      <td>0.2200</td>\n",
       "      <td>0.4177</td>\n",
       "      <td>0.2862</td>\n",
       "      <td>0.5220</td>\n",
       "      <td>0.141231</td>\n",
       "      <td>14123.054424</td>\n",
       "      <td>83.722788</td>\n",
       "      <td>67.0</td>\n",
       "      <td>38.0</td>\n",
       "      <td>371.659327</td>\n",
       "    </tr>\n",
       "    <tr>\n",
       "      <th>5763</th>\n",
       "      <td>5079.0</td>\n",
       "      <td>AR</td>\n",
       "      <td>Lincoln County, AR</td>\n",
       "      <td>3.0</td>\n",
       "      <td>2.0</td>\n",
       "      <td>1.0</td>\n",
       "      <td>4041</td>\n",
       "      <td>3867</td>\n",
       "      <td>174</td>\n",
       "      <td>4.3</td>\n",
       "      <td>...</td>\n",
       "      <td>0.2146</td>\n",
       "      <td>0.6390</td>\n",
       "      <td>0.9873</td>\n",
       "      <td>0.8134</td>\n",
       "      <td>0.062286</td>\n",
       "      <td>6228.550566</td>\n",
       "      <td>24.387353</td>\n",
       "      <td>55.0</td>\n",
       "      <td>50.0</td>\n",
       "      <td>124.571011</td>\n",
       "    </tr>\n",
       "    <tr>\n",
       "      <th>63476</th>\n",
       "      <td>31043.0</td>\n",
       "      <td>NE</td>\n",
       "      <td>Dakota County, NE</td>\n",
       "      <td>3.0</td>\n",
       "      <td>2.0</td>\n",
       "      <td>1.0</td>\n",
       "      <td>10777</td>\n",
       "      <td>10404</td>\n",
       "      <td>373</td>\n",
       "      <td>3.5</td>\n",
       "      <td>...</td>\n",
       "      <td>0.5419</td>\n",
       "      <td>0.9599</td>\n",
       "      <td>0.8055</td>\n",
       "      <td>0.8615</td>\n",
       "      <td>0.049909</td>\n",
       "      <td>4990.894325</td>\n",
       "      <td>76.883504</td>\n",
       "      <td>82.0</td>\n",
       "      <td>23.0</td>\n",
       "      <td>216.995405</td>\n",
       "    </tr>\n",
       "    <tr>\n",
       "      <th>53275</th>\n",
       "      <td>27105.0</td>\n",
       "      <td>MN</td>\n",
       "      <td>Nobles County, MN</td>\n",
       "      <td>7.0</td>\n",
       "      <td>8.0</td>\n",
       "      <td>0.0</td>\n",
       "      <td>11284</td>\n",
       "      <td>10988</td>\n",
       "      <td>296</td>\n",
       "      <td>2.6</td>\n",
       "      <td>...</td>\n",
       "      <td>0.6657</td>\n",
       "      <td>0.9325</td>\n",
       "      <td>0.7533</td>\n",
       "      <td>0.8150</td>\n",
       "      <td>0.048949</td>\n",
       "      <td>4894.912771</td>\n",
       "      <td>30.540053</td>\n",
       "      <td>80.0</td>\n",
       "      <td>25.0</td>\n",
       "      <td>195.796511</td>\n",
       "    </tr>\n",
       "    <tr>\n",
       "      <th>91251</th>\n",
       "      <td>47007.0</td>\n",
       "      <td>TN</td>\n",
       "      <td>Bledsoe County, TN</td>\n",
       "      <td>8.0</td>\n",
       "      <td>7.0</td>\n",
       "      <td>0.0</td>\n",
       "      <td>4303</td>\n",
       "      <td>4053</td>\n",
       "      <td>250</td>\n",
       "      <td>5.8</td>\n",
       "      <td>...</td>\n",
       "      <td>0.2735</td>\n",
       "      <td>0.5769</td>\n",
       "      <td>0.8233</td>\n",
       "      <td>0.8159</td>\n",
       "      <td>0.041159</td>\n",
       "      <td>4115.874538</td>\n",
       "      <td>35.927927</td>\n",
       "      <td>67.0</td>\n",
       "      <td>38.0</td>\n",
       "      <td>108.312488</td>\n",
       "    </tr>\n",
       "  </tbody>\n",
       "</table>\n",
       "<p>5 rows × 47 columns</p>\n",
       "</div>"
      ],
      "text/plain": [
       "          FIPS State             Area_name  Rural_urban_continuum_code_2013  \\\n",
       "94585  47169.0    TN  Trousdale County, TN                              1.0   \n",
       "5763    5079.0    AR    Lincoln County, AR                              3.0   \n",
       "63476  31043.0    NE     Dakota County, NE                              3.0   \n",
       "53275  27105.0    MN     Nobles County, MN                              7.0   \n",
       "91251  47007.0    TN    Bledsoe County, TN                              8.0   \n",
       "\n",
       "       Urban_influence_code_2013  Metro_2013  Civilian_labor_force_2018  \\\n",
       "94585                        1.0         1.0                       4888   \n",
       "5763                         2.0         1.0                       4041   \n",
       "63476                        2.0         1.0                      10777   \n",
       "53275                        8.0         0.0                      11284   \n",
       "91251                        7.0         0.0                       4303   \n",
       "\n",
       "       Employed_2018  Unemployed_2018  Unemployment_rate_2018     ...       \\\n",
       "94585           4729              159                     3.3     ...        \n",
       "5763            3867              174                     4.3     ...        \n",
       "63476          10404              373                     3.5     ...        \n",
       "53275          10988              296                     2.6     ...        \n",
       "91251           4053              250                     5.8     ...        \n",
       "\n",
       "       RPL_THEME2  RPL_THEME3 RPL_THEME4 RPL_THEMES cases_per_capita  \\\n",
       "94585      0.2200      0.4177     0.2862     0.5220         0.141231   \n",
       "5763       0.2146      0.6390     0.9873     0.8134         0.062286   \n",
       "63476      0.5419      0.9599     0.8055     0.8615         0.049909   \n",
       "53275      0.6657      0.9325     0.7533     0.8150         0.048949   \n",
       "91251      0.2735      0.5769     0.8233     0.8159         0.041159   \n",
       "\n",
       "       cases_per_100k    density  first_day  days_since_first spread_speed  \n",
       "94585    14123.054424  83.722788       67.0              38.0   371.659327  \n",
       "5763      6228.550566  24.387353       55.0              50.0   124.571011  \n",
       "63476     4990.894325  76.883504       82.0              23.0   216.995405  \n",
       "53275     4894.912771  30.540053       80.0              25.0   195.796511  \n",
       "91251     4115.874538  35.927927       67.0              38.0   108.312488  \n",
       "\n",
       "[5 rows x 47 columns]"
      ]
     },
     "execution_count": 13,
     "metadata": {},
     "output_type": "execute_result"
    }
   ],
   "source": [
    "latest_date.sort_values(by='cases_per_capita', ascending=False).head()"
   ]
  },
  {
   "cell_type": "markdown",
   "metadata": {},
   "source": [
    "Let's look at how New York City's growth in coronavirus cases compares to some of the most affected counties."
   ]
  },
  {
   "cell_type": "code",
   "execution_count": 14,
   "metadata": {},
   "outputs": [
    {
     "data": {
      "image/png": "[encoded data removed]",
      "text/plain": [
       "<Figure size 432x288 with 1 Axes>"
      ]
     },
     "metadata": {},
     "output_type": "display_data"
    }
   ],
   "source": [
    "plt.scatter(nyc['daysafter'], nyc['cases_per_capita'])\n",
    "plt.ylim(0,.022)\n",
    "plt.show()"
   ]
  },
  {
   "cell_type": "code",
   "execution_count": 15,
   "metadata": {},
   "outputs": [
    {
     "data": {
      "image/png": "[encoded data removed]",
      "text/plain": [
       "<Figure size 432x288 with 1 Axes>"
      ]
     },
     "metadata": {},
     "output_type": "display_data"
    }
   ],
   "source": [
    "plt.scatter(nyc['daysafter'], np.log(nyc['cases_per_capita']))\n",
    "plt.show()"
   ]
  },
  {
   "cell_type": "code",
   "execution_count": 16,
   "metadata": {
    "scrolled": false
   },
   "outputs": [
    {
     "data": {
      "image/png": "[encoded data removed]",
      "text/plain": [
       "<Figure size 432x288 with 1 Axes>"
      ]
     },
     "metadata": {},
     "output_type": "display_data"
    }
   ],
   "source": [
    "trousdale_county = fulldata[ fulldata['FIPS'] == 47169.0]\n",
    "\n",
    "plt.scatter(trousdale_county['daysafter'], trousdale_county['cases_per_capita'])\n",
    "plt.scatter(nyc['daysafter'], nyc['cases_per_capita'])\n",
    "plt.show()\n"
   ]
  },
  {
   "cell_type": "code",
   "execution_count": 17,
   "metadata": {},
   "outputs": [
    {
     "data": {
      "image/png": "[encoded data removed]",
      "text/plain": [
       "<Figure size 432x288 with 1 Axes>"
      ]
     },
     "metadata": {},
     "output_type": "display_data"
    }
   ],
   "source": [
    "lincoln_county = fulldata[ fulldata['FIPS'] == 5079.0]\n",
    "\n",
    "plt.scatter(lincoln_county['daysafter'], lincoln_county['cases_per_capita'])\n",
    "plt.scatter(nyc['daysafter'], nyc['cases_per_capita'])\n",
    "plt.show()"
   ]
  },
  {
   "cell_type": "code",
   "execution_count": 18,
   "metadata": {},
   "outputs": [
    {
     "data": {
      "image/png": "[encoded data removed]",
      "text/plain": [
       "<Figure size 432x288 with 1 Axes>"
      ]
     },
     "metadata": {},
     "output_type": "display_data"
    }
   ],
   "source": [
    "dakota_county = fulldata[ fulldata['FIPS'] == 31043.0]\n",
    "\n",
    "plt.scatter(dakota_county['daysafter'], dakota_county['cases_per_capita'])\n",
    "plt.scatter(nyc['daysafter'], nyc['cases_per_capita'])\n",
    "plt.show()"
   ]
  },
  {
   "cell_type": "markdown",
   "metadata": {},
   "source": [
    "# TODO explain results"
   ]
  },
  {
   "cell_type": "code",
   "execution_count": 19,
   "metadata": {},
   "outputs": [
    {
     "data": {
      "image/png": "[encoded data removed]",
      "text/plain": [
       "<Figure size 432x288 with 1 Axes>"
      ]
     },
     "metadata": {},
     "output_type": "display_data"
    },
    {
     "data": {
      "text/plain": [
       "0.05206826701655316"
      ]
     },
     "execution_count": 19,
     "metadata": {},
     "output_type": "execute_result"
    }
   ],
   "source": [
    "plt.scatter(latest_date['Med_HH_Income_Percent_of_State_Total_2018'], latest_date['cases_per_capita'], alpha = .1)\n",
    "plt.ylim(0,.025)\n",
    "plt.xlim(25,175)\n",
    "plt.show()\n",
    "\n",
    "np.corrcoef(latest_date['Med_HH_Income_Percent_of_State_Total_2018'], latest_date['cases_per_capita'])[0][1]"
   ]
  },
  {
   "cell_type": "code",
   "execution_count": 20,
   "metadata": {
    "scrolled": true
   },
   "outputs": [
    {
     "name": "stdout",
     "output_type": "stream",
     "text": [
      "FIPS :    -0.05628655444407967\n",
      "Rural_urban_continuum_code_2013 :    -0.11683351163137934\n",
      "Urban_influence_code_2013 :    -0.11112144070580203\n",
      "Metro_2013 :    0.10134652959706575\n",
      "Civilian_labor_force_2018 :    0.09433488875547485\n",
      "Employed_2018 :    0.09442146038780339\n",
      "Unemployed_2018 :    0.0904071533602748\n",
      "Unemployment_rate_2018 :    -0.004087259455180757\n",
      "Median_Household_Income_2018 :    0.08278533851541801\n",
      "Med_HH_Income_Percent_of_State_Total_2018 :    0.05206826701655316\n",
      "cases :    0.3454599748497979\n",
      "deaths :    0.3095288580801325\n",
      "ST :    -0.05629256345175669\n",
      "AREA_SQMI :    -0.032881346074301765\n",
      "E_TOTPOP :    0.09323240109390993\n",
      "E_PCI :    0.053227306175656054\n",
      "EP_POV :    0.015606561922483926\n",
      "EP_NOHSDP :    0.10491278560383165\n",
      "EP_AGE65 :    -0.14021456088440573\n",
      "EP_AGE17 :    0.04134188047164187\n",
      "EP_DISABL :    -0.10156516222241814\n",
      "EP_SNGPNT :    0.12093291917841323\n",
      "EP_MINRTY :    0.1845376509794251\n",
      "EP_LIMENG :    0.17920959977110082\n",
      "EP_MUNIT :    0.1129789167844957\n",
      "EP_MOBILE :    -0.025285383384945046\n",
      "EP_CROWD :    0.059821825646120985\n",
      "EP_NOVEH :    0.12303043302056284\n",
      "EP_GROUPQ :    0.04956562703004668\n",
      "RPL_THEME1 :    0.006274706431101801\n",
      "RPL_THEME2 :    -0.061251975729425326\n",
      "RPL_THEME3 :    0.19304148778609245\n",
      "RPL_THEME4 :    0.10371864060299765\n",
      "RPL_THEMES :    0.006978510197900542\n",
      "cases_per_capita :    1.0\n",
      "cases_per_100k :    0.9999999999999998\n",
      "density :    0.18206289174822976\n",
      "first_day :    -0.15032953271286184\n",
      "days_since_first :    0.15032953271286184\n",
      "spread_speed :    0.6739155087313881\n"
     ]
    }
   ],
   "source": [
    "for col in latest_date:\n",
    "    if not isinstance(latest_date[col].values[0], str) and col != 'date' and col !='daysafter':\n",
    "        print(col, ':   ', np.corrcoef(latest_date[col], latest_date['cases_per_capita'])[0][1])"
   ]
  },
  {
   "cell_type": "code",
   "execution_count": 34,
   "metadata": {},
   "outputs": [
    {
     "name": "stdout",
     "output_type": "stream",
     "text": [
      "FIPS :    -0.02815480872745207\n",
      "Rural_urban_continuum_code_2013 :    0.0019472738290921116\n",
      "Urban_influence_code_2013 :    -0.008012665138090947\n",
      "Metro_2013 :    0.01237614891615294\n",
      "Civilian_labor_force_2018 :    0.014218109896578412\n",
      "Employed_2018 :    0.01419354328156814\n",
      "Unemployed_2018 :    0.014499120320873679\n",
      "Unemployment_rate_2018 :    -0.02708788049344309\n",
      "Median_Household_Income_2018 :    0.016211498323627817\n",
      "Med_HH_Income_Percent_of_State_Total_2018 :    0.0020849044480281257\n",
      "cases :    0.1459201025637863\n",
      "deaths :    0.12465080679339771\n",
      "ST :    -0.02824413700640344\n",
      "AREA_SQMI :    -0.022348223685070803\n",
      "E_TOTPOP :    0.013623938731483699\n",
      "E_PCI :    -0.005949536825934785\n",
      "EP_POV :    0.013165225302277919\n",
      "EP_NOHSDP :    0.08655610523837544\n",
      "EP_AGE65 :    -0.05339441686844558\n",
      "EP_AGE17 :    0.03562522132408187\n",
      "EP_DISABL :    -0.06020154166873179\n",
      "EP_SNGPNT :    0.03242971112731271\n",
      "EP_MINRTY :    0.09681801855358868\n",
      "EP_LIMENG :    0.10889652914362248\n",
      "EP_MUNIT :    0.016842157849538013\n",
      "EP_MOBILE :    -0.001443700786829481\n",
      "EP_CROWD :    0.052540894059012154\n",
      "EP_NOVEH :    0.03147995017652195\n",
      "EP_GROUPQ :    0.030508713462312598\n",
      "RPL_THEME1 :    0.004566312437861362\n",
      "RPL_THEME2 :    -0.033536267039096006\n",
      "RPL_THEME3 :    0.08707346005301168\n",
      "RPL_THEME4 :    0.026965573336852542\n",
      "RPL_THEMES :    0.004653352396224564\n",
      "cases_per_capita :    0.6739155087313882\n",
      "cases_per_100k :    0.6739155087313881\n",
      "density :    0.061684346346744544\n",
      "first_day :    0.04818965844956082\n",
      "days_since_first :    -0.04818965844956082\n",
      "spread_speed :    1.0\n"
     ]
    }
   ],
   "source": [
    "for col in latest_date:\n",
    "    if not isinstance(latest_date[col].values[0], str) and col != 'date' and col !='daysafter':\n",
    "        print(col, ':   ', np.corrcoef(latest_date[col], latest_date['spread_speed'])[0][1])"
   ]
  },
  {
   "cell_type": "markdown",
   "metadata": {},
   "source": [
    "# TODO\n",
    "so it turns out that nothing is correlated to cases per capita... back to the drawing board :/"
   ]
  },
  {
   "cell_type": "code",
   "execution_count": 33,
   "metadata": {},
   "outputs": [
    {
     "name": "stdout",
     "output_type": "stream",
     "text": [
      "0.0019472738290921116\n"
     ]
    },
    {
     "data": {
      "image/png": "[encoded data removed]",
      "text/plain": [
       "<Figure size 432x288 with 1 Axes>"
      ]
     },
     "metadata": {},
     "output_type": "display_data"
    }
   ],
   "source": [
    "print(np.corrcoef(latest_date['Rural_urban_continuum_code_2013'], latest_date['spread_speed'])[0][1])\n",
    "\n",
    "plt.scatter(latest_date['Rural_urban_continuum_code_2013'], latest_date['spread_speed'],alpha=.1)\n",
    "plt.show()"
   ]
  },
  {
   "cell_type": "code",
   "execution_count": 22,
   "metadata": {},
   "outputs": [],
   "source": [
    "# np.corrcoef(latest_date['Unemployment_rate_2018'], latest_date['Median_Household_Income_2018'])[0][1]\n",
    "\n",
    "# plt.scatter(latest_date['Unemployment_rate_2018'], latest_date['Median_Household_Income_2018'], alpha=.1)\n",
    "# plt.show()"
   ]
  },
  {
   "cell_type": "code",
   "execution_count": 23,
   "metadata": {},
   "outputs": [
    {
     "data": {
      "image/png": "[encoded data removed]",
      "text/plain": [
       "<Figure size 432x288 with 1 Axes>"
      ]
     },
     "metadata": {},
     "output_type": "display_data"
    },
    {
     "name": "stdout",
     "output_type": "stream",
     "text": [
      "Model slope:      0.09862137008026778\n",
      "Model intercept:  171.84984145443613\n",
      "Correlation:      0.18206289174822982\n"
     ]
    }
   ],
   "source": [
    "plt.scatter(latest_date['density'], latest_date['cases_per_100k'], alpha = .1)\n",
    "\n",
    "percap_vs_density = LinearRegression(fit_intercept=True)\n",
    "percap_vs_density.fit(np.array(latest_date['density']).reshape(-1,1), latest_date['cases_per_100k'])\n",
    "xfit2 = np.linspace(0, 20000, 1000)\n",
    "yfit2 = percap_vs_density.predict(xfit2[:,np.newaxis])\n",
    "\n",
    "plt.xlabel('density')\n",
    "plt.ylabel('cases per 100k')\n",
    "\n",
    "plt.scatter(xfit2,yfit2, s=.5)\n",
    "plt.show()\n",
    "\n",
    "print(\"Model slope:     \", percap_vs_density.coef_[0])\n",
    "print(\"Model intercept: \", percap_vs_density.intercept_)\n",
    "print(\"Correlation:     \", np.corrcoef(np.array(latest_date['E_TOTPOP']/latest_date['AREA_SQMI']), latest_date['cases_per_capita']*100000)[0][1])\n"
   ]
  },
  {
   "cell_type": "code",
   "execution_count": 24,
   "metadata": {},
   "outputs": [
    {
     "data": {
      "text/plain": [
       "10098052"
      ]
     },
     "execution_count": 24,
     "metadata": {},
     "output_type": "execute_result"
    }
   ],
   "source": [
    "latest_date['E_TOTPOP'].max()"
   ]
  },
  {
   "cell_type": "code",
   "execution_count": 25,
   "metadata": {},
   "outputs": [
    {
     "data": {
      "text/plain": [
       "454"
      ]
     },
     "execution_count": 25,
     "metadata": {},
     "output_type": "execute_result"
    }
   ],
   "source": [
    "latest_date['E_TOTPOP'].min()"
   ]
  },
  {
   "cell_type": "code",
   "execution_count": 26,
   "metadata": {},
   "outputs": [],
   "source": [
    "def permuted_y():\n",
    "    return np.random.permutation(latest_date['cases_per_100k'].copy())"
   ]
  },
  {
   "cell_type": "code",
   "execution_count": 27,
   "metadata": {},
   "outputs": [
    {
     "data": {
      "image/png": "[encoded data removed]",
      "text/plain": [
       "<Figure size 432x288 with 1 Axes>"
      ]
     },
     "metadata": {},
     "output_type": "display_data"
    }
   ],
   "source": [
    "simul = np.zeros(10000)\n",
    "\n",
    "for i in range(10000):\n",
    "    model = LinearRegression().fit(latest_date[['density']], permuted_y())\n",
    "    simul[i] = model.coef_[0]\n",
    "\n",
    "\n",
    "plt.hist(simul, bins=30)\n",
    "plt.show()\n"
   ]
  },
  {
   "cell_type": "code",
   "execution_count": 28,
   "metadata": {},
   "outputs": [
    {
     "name": "stdout",
     "output_type": "stream",
     "text": [
      "count out of 10000 random samples:   6\n"
     ]
    }
   ],
   "source": [
    "print('count out of 10000 random samples:  ', np.count_nonzero(simul > .0986))"
   ]
  },
  {
   "cell_type": "code",
   "execution_count": 30,
   "metadata": {},
   "outputs": [
    {
     "data": {
      "text/html": [
       "<div>\n",
       "<style scoped>\n",
       "    .dataframe tbody tr th:only-of-type {\n",
       "        vertical-align: middle;\n",
       "    }\n",
       "\n",
       "    .dataframe tbody tr th {\n",
       "        vertical-align: top;\n",
       "    }\n",
       "\n",
       "    .dataframe thead th {\n",
       "        text-align: right;\n",
       "    }\n",
       "</style>\n",
       "<table border=\"1\" class=\"dataframe\">\n",
       "  <thead>\n",
       "    <tr style=\"text-align: right;\">\n",
       "      <th></th>\n",
       "      <th>FIPS</th>\n",
       "      <th>State</th>\n",
       "      <th>Area_name</th>\n",
       "      <th>Rural_urban_continuum_code_2013</th>\n",
       "      <th>Urban_influence_code_2013</th>\n",
       "      <th>Metro_2013</th>\n",
       "      <th>Civilian_labor_force_2018</th>\n",
       "      <th>Employed_2018</th>\n",
       "      <th>Unemployed_2018</th>\n",
       "      <th>Unemployment_rate_2018</th>\n",
       "      <th>...</th>\n",
       "      <th>RPL_THEME2</th>\n",
       "      <th>RPL_THEME3</th>\n",
       "      <th>RPL_THEME4</th>\n",
       "      <th>RPL_THEMES</th>\n",
       "      <th>cases_per_capita</th>\n",
       "      <th>cases_per_100k</th>\n",
       "      <th>density</th>\n",
       "      <th>first_day</th>\n",
       "      <th>days_since_first</th>\n",
       "      <th>spread_speed</th>\n",
       "    </tr>\n",
       "  </thead>\n",
       "  <tbody>\n",
       "    <tr>\n",
       "      <th>64199</th>\n",
       "      <td>31117.0</td>\n",
       "      <td>NE</td>\n",
       "      <td>McPherson County, NE</td>\n",
       "      <td>9.0</td>\n",
       "      <td>8.0</td>\n",
       "      <td>0.0</td>\n",
       "      <td>440</td>\n",
       "      <td>429</td>\n",
       "      <td>11</td>\n",
       "      <td>2.5</td>\n",
       "      <td>...</td>\n",
       "      <td>0.1646</td>\n",
       "      <td>0.0417</td>\n",
       "      <td>0.0643</td>\n",
       "      <td>0.0838</td>\n",
       "      <td>0.006608</td>\n",
       "      <td>660.792952</td>\n",
       "      <td>0.528537</td>\n",
       "      <td>104.0</td>\n",
       "      <td>1.0</td>\n",
       "      <td>660.792952</td>\n",
       "    </tr>\n",
       "    <tr>\n",
       "      <th>94585</th>\n",
       "      <td>47169.0</td>\n",
       "      <td>TN</td>\n",
       "      <td>Trousdale County, TN</td>\n",
       "      <td>1.0</td>\n",
       "      <td>1.0</td>\n",
       "      <td>1.0</td>\n",
       "      <td>4888</td>\n",
       "      <td>4729</td>\n",
       "      <td>159</td>\n",
       "      <td>3.3</td>\n",
       "      <td>...</td>\n",
       "      <td>0.2200</td>\n",
       "      <td>0.4177</td>\n",
       "      <td>0.2862</td>\n",
       "      <td>0.5220</td>\n",
       "      <td>0.141231</td>\n",
       "      <td>14123.054424</td>\n",
       "      <td>83.722788</td>\n",
       "      <td>67.0</td>\n",
       "      <td>38.0</td>\n",
       "      <td>371.659327</td>\n",
       "    </tr>\n",
       "    <tr>\n",
       "      <th>63476</th>\n",
       "      <td>31043.0</td>\n",
       "      <td>NE</td>\n",
       "      <td>Dakota County, NE</td>\n",
       "      <td>3.0</td>\n",
       "      <td>2.0</td>\n",
       "      <td>1.0</td>\n",
       "      <td>10777</td>\n",
       "      <td>10404</td>\n",
       "      <td>373</td>\n",
       "      <td>3.5</td>\n",
       "      <td>...</td>\n",
       "      <td>0.5419</td>\n",
       "      <td>0.9599</td>\n",
       "      <td>0.8055</td>\n",
       "      <td>0.8615</td>\n",
       "      <td>0.049909</td>\n",
       "      <td>4990.894325</td>\n",
       "      <td>76.883504</td>\n",
       "      <td>82.0</td>\n",
       "      <td>23.0</td>\n",
       "      <td>216.995405</td>\n",
       "    </tr>\n",
       "    <tr>\n",
       "      <th>53275</th>\n",
       "      <td>27105.0</td>\n",
       "      <td>MN</td>\n",
       "      <td>Nobles County, MN</td>\n",
       "      <td>7.0</td>\n",
       "      <td>8.0</td>\n",
       "      <td>0.0</td>\n",
       "      <td>11284</td>\n",
       "      <td>10988</td>\n",
       "      <td>296</td>\n",
       "      <td>2.6</td>\n",
       "      <td>...</td>\n",
       "      <td>0.6657</td>\n",
       "      <td>0.9325</td>\n",
       "      <td>0.7533</td>\n",
       "      <td>0.8150</td>\n",
       "      <td>0.048949</td>\n",
       "      <td>4894.912771</td>\n",
       "      <td>30.540053</td>\n",
       "      <td>80.0</td>\n",
       "      <td>25.0</td>\n",
       "      <td>195.796511</td>\n",
       "    </tr>\n",
       "    <tr>\n",
       "      <th>5763</th>\n",
       "      <td>5079.0</td>\n",
       "      <td>AR</td>\n",
       "      <td>Lincoln County, AR</td>\n",
       "      <td>3.0</td>\n",
       "      <td>2.0</td>\n",
       "      <td>1.0</td>\n",
       "      <td>4041</td>\n",
       "      <td>3867</td>\n",
       "      <td>174</td>\n",
       "      <td>4.3</td>\n",
       "      <td>...</td>\n",
       "      <td>0.2146</td>\n",
       "      <td>0.6390</td>\n",
       "      <td>0.9873</td>\n",
       "      <td>0.8134</td>\n",
       "      <td>0.062286</td>\n",
       "      <td>6228.550566</td>\n",
       "      <td>24.387353</td>\n",
       "      <td>55.0</td>\n",
       "      <td>50.0</td>\n",
       "      <td>124.571011</td>\n",
       "    </tr>\n",
       "  </tbody>\n",
       "</table>\n",
       "<p>5 rows × 47 columns</p>\n",
       "</div>"
      ],
      "text/plain": [
       "          FIPS State             Area_name  Rural_urban_continuum_code_2013  \\\n",
       "64199  31117.0    NE  McPherson County, NE                              9.0   \n",
       "94585  47169.0    TN  Trousdale County, TN                              1.0   \n",
       "63476  31043.0    NE     Dakota County, NE                              3.0   \n",
       "53275  27105.0    MN     Nobles County, MN                              7.0   \n",
       "5763    5079.0    AR    Lincoln County, AR                              3.0   \n",
       "\n",
       "       Urban_influence_code_2013  Metro_2013  Civilian_labor_force_2018  \\\n",
       "64199                        8.0         0.0                        440   \n",
       "94585                        1.0         1.0                       4888   \n",
       "63476                        2.0         1.0                      10777   \n",
       "53275                        8.0         0.0                      11284   \n",
       "5763                         2.0         1.0                       4041   \n",
       "\n",
       "       Employed_2018  Unemployed_2018  Unemployment_rate_2018     ...       \\\n",
       "64199            429               11                     2.5     ...        \n",
       "94585           4729              159                     3.3     ...        \n",
       "63476          10404              373                     3.5     ...        \n",
       "53275          10988              296                     2.6     ...        \n",
       "5763            3867              174                     4.3     ...        \n",
       "\n",
       "       RPL_THEME2  RPL_THEME3 RPL_THEME4 RPL_THEMES cases_per_capita  \\\n",
       "64199      0.1646      0.0417     0.0643     0.0838         0.006608   \n",
       "94585      0.2200      0.4177     0.2862     0.5220         0.141231   \n",
       "63476      0.5419      0.9599     0.8055     0.8615         0.049909   \n",
       "53275      0.6657      0.9325     0.7533     0.8150         0.048949   \n",
       "5763       0.2146      0.6390     0.9873     0.8134         0.062286   \n",
       "\n",
       "       cases_per_100k    density  first_day  days_since_first spread_speed  \n",
       "64199      660.792952   0.528537      104.0               1.0   660.792952  \n",
       "94585    14123.054424  83.722788       67.0              38.0   371.659327  \n",
       "63476     4990.894325  76.883504       82.0              23.0   216.995405  \n",
       "53275     4894.912771  30.540053       80.0              25.0   195.796511  \n",
       "5763      6228.550566  24.387353       55.0              50.0   124.571011  \n",
       "\n",
       "[5 rows x 47 columns]"
      ]
     },
     "execution_count": 30,
     "metadata": {},
     "output_type": "execute_result"
    }
   ],
   "source": [
    "latest_date.sort_values(by='spread_speed', ascending=False).head()"
   ]
  },
  {
   "cell_type": "code",
   "execution_count": 32,
   "metadata": {},
   "outputs": [
    {
     "name": "stdout",
     "output_type": "stream",
     "text": [
      "0.061684346346744544\n"
     ]
    },
    {
     "data": {
      "image/png": "[encoded data removed]",
      "text/plain": [
       "<Figure size 432x288 with 1 Axes>"
      ]
     },
     "metadata": {},
     "output_type": "display_data"
    }
   ],
   "source": [
    "print(np.corrcoef(latest_date['density'], latest_date['spread_speed'])[0][1])\n",
    "\n",
    "plt.scatter(latest_date['density'], latest_date['spread_speed'],alpha=.1)\n",
    "plt.show()"
   ]
  },
  {
   "cell_type": "code",
   "execution_count": null,
   "metadata": {},
   "outputs": [],
   "source": []
  }
 ],
 "metadata": {
  "kernelspec": {
   "display_name": "Python 3",
   "language": "python",
   "name": "python3"
  },
  "language_info": {
   "codemirror_mode": {
    "name": "ipython",
    "version": 3
   },
   "file_extension": ".py",
   "mimetype": "text/x-python",
   "name": "python",
   "nbconvert_exporter": "python",
   "pygments_lexer": "ipython3",
   "version": "3.6.5"
  }
 },
 "nbformat": 4,
 "nbformat_minor": 2
}
